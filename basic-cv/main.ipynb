{
 "cells": [
  {
   "cell_type": "markdown",
   "metadata": {},
   "source": [
    "# Listing all events in cv"
   ]
  },
  {
   "cell_type": "code",
   "execution_count": 1,
   "metadata": {},
   "outputs": [
    {
     "name": "stdout",
     "output_type": "stream",
     "text": [
      "['EVENT_FLAG_ALTKEY' 'EVENT_FLAG_CTRLKEY' 'EVENT_FLAG_LBUTTON'\n",
      " 'EVENT_FLAG_MBUTTON' 'EVENT_FLAG_RBUTTON' 'EVENT_FLAG_SHIFTKEY'\n",
      " 'EVENT_LBUTTONDBLCLK' 'EVENT_LBUTTONDOWN' 'EVENT_LBUTTONUP'\n",
      " 'EVENT_MBUTTONDBLCLK' 'EVENT_MBUTTONDOWN' 'EVENT_MBUTTONUP'\n",
      " 'EVENT_MOUSEHWHEEL' 'EVENT_MOUSEMOVE' 'EVENT_MOUSEWHEEL'\n",
      " 'EVENT_RBUTTONDBLCLK' 'EVENT_RBUTTONDOWN' 'EVENT_RBUTTONUP']\n"
     ]
    }
   ],
   "source": [
    "import cv2 as cv\n",
    "import numpy as np\n",
    "\n",
    "events = [i for i in dir(cv) if 'EVENT' in i]\n",
    "print( np.array(events) )"
   ]
  },
  {
   "cell_type": "markdown",
   "metadata": {},
   "source": [
    "# Global Variables"
   ]
  },
  {
   "cell_type": "code",
   "execution_count": 2,
   "metadata": {},
   "outputs": [],
   "source": [
    "isMouseDown = False\n",
    "selectionPoints = [(), ()]\n",
    "windowName = \"Image\"\n",
    "windowImage = None"
   ]
  },
  {
   "cell_type": "markdown",
   "metadata": {},
   "source": [
    "## Some Functions"
   ]
  },
  {
   "cell_type": "code",
   "execution_count": 3,
   "metadata": {},
   "outputs": [],
   "source": [
    "def cropping(AreaPoints):\n",
    "    global windowImage, windowName\n",
    "    windowImage = windowImage[AreaPoints[0][1]:AreaPoints[1][1] , AreaPoints[0][0]:AreaPoints[1][0]]\n",
    "    cv.imshow(windowName , windowImage)\n",
    "\n",
    "def Rectangle(AreaPoints):\n",
    "    global windowImage, windowName\n",
    "    windowImage = cv.rectangle(windowImage,AreaPoints[0],AreaPoints[1],(0,255,0),3)\n",
    "    cv.imshow(windowName , windowImage)\n",
    "\n",
    "def Circle(AreaPoints):\n",
    "    global windowImage, windowName\n",
    "    windowImage = cv.circle(windowImage,AreaPoints[0],int(distance(AreaPoints[0] , AreaPoints[1])),(0,255,0),3)\n",
    "    cv.imshow(windowName , windowImage)\n",
    "\n",
    "def mask(AreaPoints):\n",
    "    global windowImage, windowName\n",
    "    x , y = AreaPoints[0]\n",
    "    color = windowImage[y , x]\n",
    "    hsv_image = cv.cvtColor(windowImage , cv.COLOR_BGR2HSV)\n",
    "    mask = cv.inRange(hsv_image, *colorRange(color))\n",
    "    threshold = cv.bitwise_and(windowImage, windowImage, mask=mask)\n",
    "    cv.imshow( \"color selection\", threshold)\n",
    "\n",
    "def colorRange(bgr_color):\n",
    "    bgr_color = np.array([[bgr_color]])\n",
    "    hsv_color = cv.cvtColor(bgr_color, cv.COLOR_BGR2HSV)\n",
    "    color_hue = int(hsv_color[0][0][0])\n",
    "    color_saturation = int(hsv_color[0][0][1])\n",
    "    color_value = int(hsv_color[0][0][2])\n",
    "    lower_bound = color_hue - 10, (color_saturation - 50 if color_saturation >= 50 else 0 ) , (color_value - 50 if color_value >= 50 else 0)\n",
    "\n",
    "    upper_bound = color_hue + 10, (color_saturation + 50 if color_saturation <= 205 else 255 ) , (color_value + 50 if color_value <= 205 else 255)\n",
    "    return lower_bound , upper_bound\n",
    "\n",
    "\n",
    "def distance(point1 , point2):\n",
    "    return np.sqrt((point1[0] - point2[0])**2 + (point1[1] - point2[1])**2)\n",
    "\n",
    "def mouseSelectedArea(functionOnSelectedArea , min_distance = 5 , onMouseDownOnly = False):\n",
    "    def func(event , x , y , flags , param):\n",
    "        global isMouseDown, windowImage, selectionPoints, windowName\n",
    "        if event == cv.EVENT_LBUTTONDOWN:\n",
    "            selectionPoints[0] = (x , y)\n",
    "            isMouseDown = True\n",
    "            if(onMouseDownOnly):\n",
    "                functionOnSelectedArea(selectionPoints)\n",
    "                isMouseDown = False\n",
    "\n",
    "        if event == cv.EVENT_LBUTTONUP and isMouseDown and not onMouseDownOnly:\n",
    "            selectionPoints[1] = (x , y)\n",
    "            if(distance(selectionPoints[0] , selectionPoints[1]) < min_distance):\n",
    "                return\n",
    "            functionOnSelectedArea(selectionPoints)\n",
    "            isMouseDown = False\n",
    "    return func"
   ]
  },
  {
   "cell_type": "code",
   "execution_count": 4,
   "metadata": {},
   "outputs": [
    {
     "name": "stdout",
     "output_type": "stream",
     "text": [
      "mask selected\n"
     ]
    }
   ],
   "source": [
    "import numpy as np\n",
    "import cv2 as cv\n",
    "original_img = cv.imread(\"bunny.jpg\")\n",
    "\n",
    "# # will not use it because the image is read in RGB on my machine\n",
    "# original_img = cv.cvtColor(original_img ,  cv.COLOR_BGR2RGB)\n",
    "\n",
    "dst_img  = cv.resize(original_img, None , fx=0.1,fy = 0.1,interpolation=cv.INTER_AREA)\n",
    "\n",
    "windowImage = dst_img\n",
    "windowName = \"bunny.jpg\"\n",
    "\n",
    "startImage = dst_img.copy()\n",
    "font = cv.FONT_HERSHEY_COMPLEX\n",
    "cv.putText(startImage,'press one character then select Area',(100,100), font, 1,(255,0,0),2,cv.LINE_AA)\n",
    "cv.putText(startImage,'[r - c - u - m]',(300,150), font, 1,(255,0,0),2,cv.LINE_AA)\n",
    "cv.putText(startImage,'press s to save',(280,200), font, 1,(0,0,255),2,cv.LINE_AA)\n",
    "\n",
    "cv.imshow(windowName , startImage)\n",
    "\n",
    "methods = {\n",
    "            \"r\" : \"rectangle\",\n",
    "            \"c\": \"circle\",\n",
    "            \"u\":\"crop\",\n",
    "            \"m\" : \"mask\"\n",
    "           }\n",
    "\n",
    "while True:\n",
    "    if(windowImage.shape != startImage.shape):\n",
    "        cv.imshow(windowName , windowImage)\n",
    "    else :\n",
    "        cv.imshow(windowName , startImage)\n",
    "    waitkey = cv.waitKey(0)\n",
    "    if  waitkey & 0xFF == ord('s'):\n",
    "        cv.imwrite(\"cropped.jpg\" , windowImage)\n",
    "        break\n",
    "    if waitkey > 0 and chr(waitkey) in methods:\n",
    "        startImage = windowImage\n",
    "        selectedMethod = methods[chr(waitkey)]\n",
    "        if selectedMethod == \"crop\":\n",
    "            print(\"crop selected\")\n",
    "            cv.setMouseCallback(windowName , mouseSelectedArea(cropping))\n",
    "        elif selectedMethod == \"rectangle\":\n",
    "            print(\"rectangle selected\")\n",
    "            cv.setMouseCallback(windowName , mouseSelectedArea(Rectangle))\n",
    "        elif selectedMethod == \"circle\":\n",
    "            print(\"circle selected\")\n",
    "            cv.setMouseCallback(windowName , mouseSelectedArea(Circle))\n",
    "        elif selectedMethod == \"mask\":\n",
    "            print(\"mask selected\")\n",
    "            cv.setMouseCallback(windowName , mouseSelectedArea(mask , min_distance=-1))\n",
    "    if waitkey & 0xFF == 27:\n",
    "        break\n",
    "    if waitkey & 0xFF == -1 & 0xFF:\n",
    "        break\n",
    "    \n",
    "cv.destroyAllWindows()"
   ]
  },
  {
   "cell_type": "code",
   "execution_count": null,
   "metadata": {},
   "outputs": [],
   "source": []
  }
 ],
 "metadata": {
  "kernelspec": {
   "display_name": "Python 3",
   "language": "python",
   "name": "python3"
  },
  "language_info": {
   "codemirror_mode": {
    "name": "ipython",
    "version": 3
   },
   "file_extension": ".py",
   "mimetype": "text/x-python",
   "name": "python",
   "nbconvert_exporter": "python",
   "pygments_lexer": "ipython3",
   "version": "3.12.4"
  }
 },
 "nbformat": 4,
 "nbformat_minor": 2
}
